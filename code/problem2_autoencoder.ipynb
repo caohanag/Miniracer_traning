{
  "cells": [
    {
      "cell_type": "markdown",
      "metadata": {
        "id": "k6SZZaV21xxu"
      },
      "source": [
        "Convolution Autoencoders\n",
        "======"
      ]
    },
    {
      "cell_type": "code",
      "execution_count": 125,
      "metadata": {
        "id": "WhRM7s4K1xx3"
      },
      "outputs": [],
      "source": [
        "import sys\n",
        "%matplotlib inline\n",
        "import os\n",
        "import pandas as pd\n",
        "import numpy as np\n",
        "import torch\n",
        "import torch.nn as nn\n",
        "import torch.nn.functional as F"
      ]
    },
    {
      "cell_type": "markdown",
      "metadata": {
        "id": "qVwYZtQ91xx6"
      },
      "source": [
        "Parameter Settings\n",
        "-------------------\n"
      ]
    },
    {
      "cell_type": "code",
      "execution_count": 126,
      "metadata": {
        "id": "bxNlZzje1xx7"
      },
      "outputs": [],
      "source": [
        "num_epochs = 50\n",
        "batch_size = 128\n",
        "capacity = 1\n",
        "learning_rate = 1e-2\n",
        "use_gpu = True"
      ]
    },
    {
      "cell_type": "markdown",
      "metadata": {
        "id": "yUKIs7Ay1xx8"
      },
      "source": [
        "Data Loading\n",
        "-------------------\n",
        "\n",
        "Screenshots show in 16x16 images. We normalize them, which gives a slight performance boost during training.\n",
        "We create both a training set and a test set."
      ]
    },
    {
      "cell_type": "code",
      "execution_count": 127,
      "metadata": {},
      "outputs": [],
      "source": [
        "import torchvision.transforms as transforms\n",
        "from torch.utils.data import DataLoader\n",
        "from torch.utils.data.dataset import Dataset\n",
        "\n",
        "img_transform = transforms.Compose([\n",
        "    transforms.ToTensor(),\n",
        "    transforms.Normalize((0.5,), (0.5,))\n",
        "])"
      ]
    },
    {
      "cell_type": "markdown",
      "metadata": {},
      "source": [
        "Dataset Construct\n",
        "-------------------\n",
        "\n",
        "As problem 1."
      ]
    },
    {
      "cell_type": "code",
      "execution_count": 128,
      "metadata": {},
      "outputs": [],
      "source": [
        "\n",
        "class DatasetFromCSV(Dataset):\n",
        "    def __init__(self, csv_path, height=16, width=16, transforms=None):\n",
        "        self.data = pd.read_csv(csv_path)\n",
        "        self.labels = np.asarray(self.data.iloc[:, 256])\n",
        "        self.height = height\n",
        "        self.width = width\n",
        "        self.transforms = transforms\n",
        " \n",
        "    def __getitem__(self, index):\n",
        "        single_image_label = self.labels[index]\n",
        "        # 1D array ([256]) reshape -> 2D array ([16,16])\n",
        "        img_as_np = np.asarray(self.data.iloc[index][0:256]).reshape(16, 16, 1).astype(float)\n",
        "\n",
        "        #print(\"img_as_np:\",img_as_np.shape[0],img_as_np.shape[1],img_as_np.shape[2])\n",
        "        \n",
        "        # transform numpy to tensor\n",
        "        if self.transforms is not None:\n",
        "            img_as_tensor = self.transforms(img_as_np)\n",
        "            img_as_tensor = img_as_tensor.type(torch.FloatTensor)\n",
        "        #print(img_as_tensor.type())\n",
        "        #print(\"img_as_tensor:\",img_as_tensor.shape[0],img_as_tensor.shape[1],img_as_tensor.shape[2])\n",
        "        return (img_as_tensor, single_image_label)\n",
        " \n",
        "    def __len__(self):\n",
        "        return len(self.data.index)\n"
      ]
    },
    {
      "cell_type": "code",
      "execution_count": 129,
      "metadata": {
        "id": "7f4iVOY01xx9"
      },
      "outputs": [],
      "source": [
        "train_dataset= DatasetFromCSV('trainingdata.csv',16,16,img_transform)\n",
        "test_dataset = DatasetFromCSV(\"testingdata.csv\",16,16,img_transform)\n",
        " \n",
        "train_dataloader = torch.utils.data.DataLoader(train_dataset,batch_size=batch_size, shuffle=True, num_workers=0)\n",
        "test_dataloader = torch.utils.data.DataLoader(test_dataset,batch_size=batch_size, shuffle=True, num_workers=0)\n"
      ]
    },
    {
      "cell_type": "markdown",
      "metadata": {
        "id": "64Va5NIR1xx-"
      },
      "source": [
        "Autoencoder Definition\n",
        "-----------------------\n",
        "We use a convolutional encoder and decoder, which generally gives better performance than fully connected versions that have the same number of parameters.\n",
        "\n",
        "In convolution layers, we increase the channels as we approach the bottleneck, but note that the total number of features still decreases, since the channels increase by a factor of 2 in second convolution, but the spatial size decreases by a factor of 4.\n",
        "\n",
        "Kernel size 4 is used to avoid biasing problems."
      ]
    },
    {
      "cell_type": "code",
      "execution_count": 130,
      "metadata": {
        "id": "T9Kk75Kz1xyA",
        "outputId": "c5866368-b7d3-45c4-d476-e3e3377fc89c"
      },
      "outputs": [
        {
          "name": "stdout",
          "output_type": "stream",
          "text": [
            "Number of parameters: 101\n",
            "Encoder: Encoder(\n",
            "  (conv1): Conv2d(1, 1, kernel_size=(4, 4), stride=(2, 2), padding=(1, 1))\n",
            "  (conv2): Conv2d(1, 2, kernel_size=(4, 4), stride=(2, 2), padding=(1, 1))\n",
            ")\n"
          ]
        }
      ],
      "source": [
        "class Encoder(nn.Module):\n",
        "    def __init__(self):\n",
        "        super(Encoder, self).__init__()\n",
        "        c = capacity\n",
        "        self.conv1 = nn.Conv2d(in_channels=1, out_channels=c, kernel_size=4, stride=2, padding=1) # out: c x 8 x 8\n",
        "        self.conv2 = nn.Conv2d(in_channels=c, out_channels=c*2, kernel_size=4, stride=2, padding=1) # out: 2c x 4 x 4\n",
        "            \n",
        "    def forward(self, x):\n",
        "        x = F.relu(self.conv1(x))\n",
        "        x = F.relu(self.conv2(x))\n",
        "        x = x.view(x.size(0), -1) # flatten batch of multi-channel feature maps to a batch of feature vectors\n",
        "        return x\n",
        "\n",
        "class Decoder(nn.Module):\n",
        "    def __init__(self):\n",
        "        super(Decoder, self).__init__()\n",
        "        c = capacity\n",
        "        self.conv2 = nn.ConvTranspose2d(in_channels=c*2, out_channels=c, kernel_size=4, stride=2, padding=1)\n",
        "        self.conv1 = nn.ConvTranspose2d(in_channels=c, out_channels=1, kernel_size=4, stride=2, padding=1)\n",
        "            \n",
        "    def forward(self, x):\n",
        "        x = x.view(x.size(0), capacity*2, 4, 4) # unflatten batch of feature vectors to a batch of multi-channel feature maps\n",
        "        x = F.relu(self.conv2(x))\n",
        "        x = torch.tanh(self.conv1(x)) # last layer before output is tanh, since the images are normalized and 0-centered\n",
        "        return x\n",
        "    \n",
        "class Autoencoder(nn.Module):\n",
        "    def __init__(self):\n",
        "        super(Autoencoder, self).__init__()\n",
        "        self.encoder = Encoder()\n",
        "        self.decoder = Decoder()\n",
        "    \n",
        "    def forward(self, x):\n",
        "        latent = self.encoder(x)\n",
        "        x_recon = self.decoder(latent)\n",
        "        return x_recon\n",
        "    \n",
        "autoencoder = Autoencoder()\n",
        "\n",
        "device = torch.device(\"cuda:0\" if use_gpu and torch.cuda.is_available() else \"cpu\")\n",
        "autoencoder = autoencoder.to(device)\n",
        "\n",
        "num_params = sum(p.numel() for p in autoencoder.parameters() if p.requires_grad)\n",
        "print('Number of parameters: %d' % num_params)\n",
        "print(\"Encoder:\", Encoder())"
      ]
    },
    {
      "cell_type": "markdown",
      "metadata": {
        "id": "tdnl_A2y1xyC"
      },
      "source": [
        "Train Autoencoder\n",
        "--------"
      ]
    },
    {
      "cell_type": "code",
      "execution_count": 131,
      "metadata": {
        "id": "vRAmmZE91xyD",
        "outputId": "145b7fbb-586d-4fbc-f43f-4fdabbb5af8c",
        "scrolled": true
      },
      "outputs": [
        {
          "name": "stdout",
          "output_type": "stream",
          "text": [
            "Training ...\n",
            "Epoch [1 / 50] average reconstruction error: 1.094431\n",
            "Epoch [2 / 50] average reconstruction error: 1.060625\n",
            "Epoch [3 / 50] average reconstruction error: 1.040393\n",
            "Epoch [4 / 50] average reconstruction error: 1.030890\n",
            "Epoch [5 / 50] average reconstruction error: 1.027802\n",
            "Epoch [6 / 50] average reconstruction error: 1.027372\n",
            "Epoch [7 / 50] average reconstruction error: 1.027503\n",
            "Epoch [8 / 50] average reconstruction error: 1.027525\n",
            "Epoch [9 / 50] average reconstruction error: 1.027444\n",
            "Epoch [10 / 50] average reconstruction error: 1.027372\n",
            "Epoch [11 / 50] average reconstruction error: 1.027346\n",
            "Epoch [12 / 50] average reconstruction error: 1.027345\n",
            "Epoch [13 / 50] average reconstruction error: 1.027346\n",
            "Epoch [14 / 50] average reconstruction error: 1.027345\n",
            "Epoch [15 / 50] average reconstruction error: 1.027344\n",
            "Epoch [16 / 50] average reconstruction error: 1.027344\n",
            "Epoch [17 / 50] average reconstruction error: 1.027344\n",
            "Epoch [18 / 50] average reconstruction error: 1.027344\n",
            "Epoch [19 / 50] average reconstruction error: 1.027344\n",
            "Epoch [20 / 50] average reconstruction error: 1.027344\n",
            "Epoch [21 / 50] average reconstruction error: 1.027344\n",
            "Epoch [22 / 50] average reconstruction error: 1.027344\n",
            "Epoch [23 / 50] average reconstruction error: 1.027344\n",
            "Epoch [24 / 50] average reconstruction error: 1.027344\n",
            "Epoch [25 / 50] average reconstruction error: 1.027344\n",
            "Epoch [26 / 50] average reconstruction error: 1.027344\n",
            "Epoch [27 / 50] average reconstruction error: 1.027344\n",
            "Epoch [28 / 50] average reconstruction error: 1.027344\n",
            "Epoch [29 / 50] average reconstruction error: 1.027344\n",
            "Epoch [30 / 50] average reconstruction error: 1.027344\n",
            "Epoch [31 / 50] average reconstruction error: 1.027344\n",
            "Epoch [32 / 50] average reconstruction error: 1.027344\n",
            "Epoch [33 / 50] average reconstruction error: 1.027344\n",
            "Epoch [34 / 50] average reconstruction error: 1.027344\n",
            "Epoch [35 / 50] average reconstruction error: 1.027344\n",
            "Epoch [36 / 50] average reconstruction error: 1.027344\n",
            "Epoch [37 / 50] average reconstruction error: 1.027344\n",
            "Epoch [38 / 50] average reconstruction error: 1.027344\n",
            "Epoch [39 / 50] average reconstruction error: 1.027344\n",
            "Epoch [40 / 50] average reconstruction error: 1.027344\n",
            "Epoch [41 / 50] average reconstruction error: 1.027344\n",
            "Epoch [42 / 50] average reconstruction error: 1.027344\n",
            "Epoch [43 / 50] average reconstruction error: 1.027344\n",
            "Epoch [44 / 50] average reconstruction error: 1.027344\n",
            "Epoch [45 / 50] average reconstruction error: 1.027344\n",
            "Epoch [46 / 50] average reconstruction error: 1.027344\n",
            "Epoch [47 / 50] average reconstruction error: 1.027344\n",
            "Epoch [48 / 50] average reconstruction error: 1.027344\n",
            "Epoch [49 / 50] average reconstruction error: 1.027344\n",
            "Epoch [50 / 50] average reconstruction error: 1.027344\n"
          ]
        }
      ],
      "source": [
        "optimizer = torch.optim.Adam(params=autoencoder.parameters(), lr=learning_rate, weight_decay=1e-5)\n",
        "\n",
        "# set to training mode\n",
        "autoencoder.train()\n",
        "\n",
        "train_loss_avg = []\n",
        "\n",
        "print('Training ...')\n",
        "for epoch in range(num_epochs):\n",
        "    train_loss_avg.append(0)\n",
        "    num_batches = 0\n",
        "    \n",
        "    for image_batch, _ in train_dataloader:\n",
        "        \n",
        "        image_batch = image_batch.to(device)\n",
        "        \n",
        "        # autoencoder reconstruction\n",
        "        image_batch_recon = autoencoder(image_batch)\n",
        "        \n",
        "        # reconstruction error\n",
        "        loss = F.mse_loss(image_batch_recon, image_batch)\n",
        "        \n",
        "        # backpropagation\n",
        "        optimizer.zero_grad()\n",
        "        loss.backward()\n",
        "        \n",
        "        # one step of the optmizer (using the gradients from backpropagation)\n",
        "        optimizer.step()\n",
        "        \n",
        "        train_loss_avg[-1] += loss.item()\n",
        "        num_batches += 1\n",
        "        \n",
        "    train_loss_avg[-1] /= num_batches\n",
        "    print('Epoch [%d / %d] average reconstruction error: %f' % (epoch+1, num_epochs, train_loss_avg[-1]))"
      ]
    },
    {
      "cell_type": "code",
      "execution_count": 132,
      "metadata": {},
      "outputs": [],
      "source": [
        "save_path = './pretrained/autoencoder_v2_conv.pth'\n",
        "torch.save(autoencoder.state_dict(), save_path)"
      ]
    },
    {
      "cell_type": "markdown",
      "metadata": {
        "id": "OI9L0kot1xyE"
      },
      "source": [
        "Plot Training Curve\n",
        "--------------------"
      ]
    },
    {
      "cell_type": "code",
      "execution_count": 133,
      "metadata": {
        "id": "r11A_7p81xyF",
        "outputId": "32b68496-e168-40dc-db0f-c8f5fda11a7f"
      },
      "outputs": [
        {
          "data": {
            "image/png": "[encoded data removed]",
            "text/plain": [
              "<Figure size 432x288 with 1 Axes>"
            ]
          },
          "metadata": {
            "needs_background": "light"
          },
          "output_type": "display_data"
        }
      ],
      "source": [
        "import matplotlib.pyplot as plt\n",
        "plt.ion()\n",
        "\n",
        "fig = plt.figure()\n",
        "plt.plot(train_loss_avg)\n",
        "plt.xlabel('Epochs')\n",
        "plt.ylabel('Reconstruction error')\n",
        "plt.show()"
      ]
    },
    {
      "cell_type": "markdown",
      "metadata": {
        "id": "tTOFFB361xyG"
      },
      "source": [
        "Load Pre-Trained Autoencoder\n",
        "-----------------------------"
      ]
    },
    {
      "cell_type": "code",
      "execution_count": 134,
      "metadata": {
        "id": "TTwnIKmZ1xyG"
      },
      "outputs": [
        {
          "name": "stdout",
          "output_type": "stream",
          "text": [
            "importing ...\n",
            "done\n"
          ]
        }
      ],
      "source": [
        "import urllib\n",
        "if not os.path.isdir('./pretrained'):\n",
        "    os.makedirs('./pretrained')\n",
        "print('importing ...')\n",
        "autoencoder.load_state_dict(torch.load('./pretrained/autoencoder_v2_conv.pth'))\n",
        "print('done')"
      ]
    },
    {
      "cell_type": "markdown",
      "metadata": {
        "id": "1DFmFEsq1xyH"
      },
      "source": [
        "Evaluate on the Test Set\n",
        "-------------------------"
      ]
    },
    {
      "cell_type": "code",
      "execution_count": 135,
      "metadata": {
        "id": "AzcCIA0K1xyI",
        "outputId": "38e9c05c-09b0-4a7f-cdab-e95ebefba6b1"
      },
      "outputs": [
        {
          "name": "stdout",
          "output_type": "stream",
          "text": [
            "average reconstruction error: 1.027344\n"
          ]
        }
      ],
      "source": [
        "# set to evaluation mode\n",
        "autoencoder.eval()\n",
        "\n",
        "test_loss_avg, num_batches = 0, 0\n",
        "for image_batch, _ in test_dataloader:\n",
        "    \n",
        "    with torch.no_grad():\n",
        "\n",
        "        image_batch = image_batch.to(device)\n",
        "\n",
        "        # autoencoder reconstruction\n",
        "        image_batch_recon = autoencoder(image_batch)\n",
        "\n",
        "        # reconstruction error\n",
        "        loss = F.mse_loss(image_batch_recon, image_batch)\n",
        "\n",
        "        test_loss_avg += loss.item()\n",
        "        num_batches += 1\n",
        "    \n",
        "test_loss_avg /= num_batches\n",
        "print('average reconstruction error: %f' % (test_loss_avg))"
      ]
    }
  ],
  "metadata": {
    "colab": {
      "provenance": []
    },
    "kernelspec": {
      "display_name": "Python 3.7.13 (conda)",
      "language": "python",
      "name": "python3"
    },
    "language_info": {
      "codemirror_mode": {
        "name": "ipython",
        "version": 3
      },
      "file_extension": ".py",
      "mimetype": "text/x-python",
      "name": "python",
      "nbconvert_exporter": "python",
      "pygments_lexer": "ipython3",
      "version": "3.7.13"
    },
    "vscode": {
      "interpreter": {
        "hash": "33622b258e849c48cdbc49d77946df62c6974755a1354989ad23976d61ac869e"
      }
    }
  },
  "nbformat": 4,
  "nbformat_minor": 0
}
